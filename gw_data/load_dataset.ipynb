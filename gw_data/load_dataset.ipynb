{
 "cells": [
  {
   "cell_type": "code",
   "execution_count": 1,
   "metadata": {},
   "outputs": [],
   "source": [
    "import json\n",
    "from gwpy.timeseries import TimeSeries\n",
    "from gwpy.segments import Segment, SegmentList\n",
    "\n",
    "from typing import List\n",
    "from tqdm.auto import tqdm"
   ]
  },
  {
   "cell_type": "code",
   "execution_count": 2,
   "metadata": {},
   "outputs": [],
   "source": [
    "def interval_intersection(list1: List[List[int]], list2: List[List[int]]) -> List[List[int]]:\n",
    "    i, j = 0, 0\n",
    "    intersections = []\n",
    "    \n",
    "    while i < len(list1) and j < len(list2):\n",
    "        a_start, a_end = list1[i]\n",
    "        b_start, b_end = list2[j]\n",
    "        \n",
    "        start = max(a_start, b_start)\n",
    "        end = min(a_end, b_end)\n",
    "        \n",
    "        if start < end: intersections.append([start, end])\n",
    "        \n",
    "        if a_end < b_end: i += 1\n",
    "        else: j += 1\n",
    "            \n",
    "    return intersections"
   ]
  },
  {
   "cell_type": "code",
   "execution_count": 3,
   "metadata": {},
   "outputs": [
    {
     "name": "stdout",
     "output_type": "stream",
     "text": [
      "Total O2 Duration: 167,583 sec\n"
     ]
    }
   ],
   "source": [
    "with open(\"l1_o2_segments.json\", 'r') as file:\n",
    "    o2_segments = json.load(file)[\"segments\"]\n",
    "    no_injection_intval = [\n",
    "        [1164556817, 1164755435], [1164755459, 1164765305], [1164765357, 1164769204],\n",
    "        [1164769557, 1178980183], [1178980184, 1187733618]\n",
    "    ]\n",
    "    o2_segments = interval_intersection(o2_segments, no_injection_intval)\n",
    "    \n",
    "with open(\"l1_o2_no_cw_inj.json\", 'r') as file:\n",
    "    no_injection_intval = json.load(file)[\"segments\"]\n",
    "    o2_segments = interval_intersection(o2_segments, no_injection_intval)\n",
    "\n",
    "duration = sum(segment[1] - segment[0] for segment in o2_segments)\n",
    "print(f\"Total O2 Duration: {duration:,} sec\")"
   ]
  },
  {
   "cell_type": "code",
   "execution_count": 4,
   "metadata": {},
   "outputs": [
    {
     "name": "stdout",
     "output_type": "stream",
     "text": [
      "Total O3b Duration: 1,042,329 sec\n"
     ]
    }
   ],
   "source": [
    "with open(\"l1_o3b_segments.json\", 'r') as file:\n",
    "    o3b_segments = json.load(file)[\"segments\"]\n",
    "    \n",
    "with open(\"l1_o3b_no_cw_inj.json\", 'r') as file:\n",
    "    no_injection_intval = json.load(file)[\"segments\"]\n",
    "    o3b_segments = interval_intersection(o3b_segments, no_injection_intval)\n",
    "\n",
    "duration = sum(segment[1] - segment[0] for segment in o3b_segments)\n",
    "print(f\"Total O3b Duration: {duration:,} sec\")"
   ]
  },
  {
   "cell_type": "code",
   "execution_count": 5,
   "metadata": {},
   "outputs": [],
   "source": [
    "gw_event_segments = [\n",
    "    [1264211182, 1264215278], # GW200128_022011\n",
    "    [1264314069, 1264318165], # GW200129_065458\n",
    "    [1264622519, 1264626615], # GW200201_203549\n",
    "    [1264691364, 1264695460]  # GW200202_154313\n",
    "]"
   ]
  },
  {
   "cell_type": "code",
   "execution_count": 6,
   "metadata": {},
   "outputs": [],
   "source": [
    "o2_intervals = [Segment(*segment) for segment in o2_segments]\n",
    "o3b_intervals = [Segment(*segment) for segment in o3b_segments]\n",
    "\n",
    "observation_intervals = SegmentList(o2_intervals + o3b_intervals)\n",
    "gw_event_intervals = SegmentList([Segment(*segment) for segment in gw_event_segments])\n",
    "observation_intervals = observation_intervals - gw_event_intervals"
   ]
  },
  {
   "cell_type": "code",
   "execution_count": 7,
   "metadata": {},
   "outputs": [
    {
     "name": "stdout",
     "output_type": "stream",
     "text": [
      "[1165564889 ... 1165564904)\n",
      "[1165566146 ... 1165571297)\n",
      "[1168788899 ... 1168790410)\n",
      "[1168813588 ... 1168813600)\n",
      "[1175713470 ... 1175713574)\n",
      "[1175713728 ... 1175713874)\n",
      "[1175714159 ... 1175714174)\n",
      "[1175714374 ... 1175726426)\n",
      "[1175730458 ... 1175761375)\n",
      "[1175763831 ... 1175771194)\n",
      "[1175773802 ... 1175787563)\n",
      "[1175789870 ... 1175805747)\n",
      "[1175809044 ... 1175826548)\n",
      "[1175828407 ... 1175861674)\n",
      "[1175864788 ... 1175894543)\n",
      "[1176035184 ... 1176035317)\n",
      "[1263588386 ... 1263594319)\n",
      "[1263597982 ... 1263599374)\n",
      "[1263601587 ... 1263601875)\n",
      "[1263612488 ... 1263616279)\n",
      "[1263618943 ... 1263634588)\n",
      "[1263637798 ... 1263652909)\n",
      "[1263674773 ... 1263680830)\n",
      "[1263680852 ... 1263685120)\n",
      "[1263688328 ... 1263697638)\n",
      "[1263697770 ... 1263751884)\n",
      "[1263752127 ... 1263767422)\n",
      "[1263777550 ... 1263795012)\n",
      "[1263806320 ... 1263850547)\n",
      "[1263855607 ... 1263924944)\n",
      "[1263942972 ... 1263961795)\n",
      "[1263966840 ... 1263983837)\n",
      "[1263986569 ... 1264000088)\n",
      "[1264001857 ... 1264011283)\n",
      "[1264013167 ... 1264046619)\n",
      "[1264046648 ... 1264046666)\n",
      "[1264050328 ... 1264056807)\n",
      "[1264063444 ... 1264115964)\n",
      "[1264119483 ... 1264137658)\n",
      "[1264145647 ... 1264186707)\n",
      "[1264195637 ... 1264211182)\n",
      "[1264215278 ... 1264258532)\n",
      "[1264294887 ... 1264314069)\n",
      "[1264318165 ... 1264452541)\n",
      "[1264468070 ... 1264468276)\n",
      "[1264468484 ... 1264528206)\n",
      "[1264534237 ... 1264547741)\n",
      "[1264547790 ... 1264570812)\n",
      "[1264570898 ... 1264575694)\n",
      "[1264578718 ... 1264610469)\n",
      "[1264612159 ... 1264622519)\n",
      "[1264626615 ... 1264651022)\n",
      "[1264653129 ... 1264682801)\n",
      "[1264682991 ... 1264691364)\n",
      "[1264695460 ... 1264769385)\n",
      "[1264783968 ... 1264784647)\n",
      "[1264784753 ... 1264791696)\n",
      "[1264792615 ... 1264805905)\n",
      "[1264806007 ... 1264820328)\n",
      "[1264822400 ... 1264848318)\n"
     ]
    }
   ],
   "source": [
    "for interval in observation_intervals:\n",
    "    print(interval)"
   ]
  },
  {
   "cell_type": "code",
   "execution_count": 8,
   "metadata": {},
   "outputs": [
    {
     "name": "stdout",
     "output_type": "stream",
     "text": [
      "Duration: 1,193,528 sec\n"
     ]
    }
   ],
   "source": [
    "duration = sum(interval[1]-interval[0] for interval in observation_intervals)\n",
    "print(f\"Duration: {duration:,} sec\")"
   ]
  },
  {
   "cell_type": "code",
   "execution_count": 9,
   "metadata": {},
   "outputs": [
    {
     "data": {
      "application/vnd.jupyter.widget-view+json": {
       "model_id": "8664ba93cb25480eab2e4e814e9be6c7",
       "version_major": 2,
       "version_minor": 0
      },
      "text/plain": [
       "Loading Segments:   0%|          | 0/60 [00:00<?, ?it/s]"
      ]
     },
     "metadata": {},
     "output_type": "display_data"
    },
    {
     "ename": "KeyboardInterrupt",
     "evalue": "",
     "output_type": "error",
     "traceback": [
      "\u001b[31m---------------------------------------------------------------------------\u001b[39m",
      "\u001b[31mKeyboardInterrupt\u001b[39m                         Traceback (most recent call last)",
      "\u001b[36mCell\u001b[39m\u001b[36m \u001b[39m\u001b[32mIn[9]\u001b[39m\u001b[32m, line 6\u001b[39m\n\u001b[32m      4\u001b[39m \u001b[38;5;28;01mfor\u001b[39;00m interval \u001b[38;5;129;01min\u001b[39;00m tqdm(observation_intervals, desc=\u001b[33m\"\u001b[39m\u001b[33mLoading Segments\u001b[39m\u001b[33m\"\u001b[39m):\n\u001b[32m      5\u001b[39m     \u001b[38;5;28;01mtry\u001b[39;00m:\n\u001b[32m----> \u001b[39m\u001b[32m6\u001b[39m         data = \u001b[43mTimeSeries\u001b[49m\u001b[43m.\u001b[49m\u001b[43mfetch_open_data\u001b[49m\u001b[43m(\u001b[49m\u001b[43mchannel_name\u001b[49m\u001b[43m,\u001b[49m\u001b[43m \u001b[49m\u001b[43minterval\u001b[49m\u001b[43m[\u001b[49m\u001b[32;43m0\u001b[39;49m\u001b[43m]\u001b[49m\u001b[43m,\u001b[49m\u001b[43m \u001b[49m\u001b[43minterval\u001b[49m\u001b[43m[\u001b[49m\u001b[32;43m1\u001b[39;49m\u001b[43m]\u001b[49m\u001b[43m,\u001b[49m\u001b[43m \u001b[49m\u001b[43mtimeout\u001b[49m\u001b[43m=\u001b[49m\u001b[32;43m300\u001b[39;49m\u001b[43m)\u001b[49m\n\u001b[32m      7\u001b[39m         data.write(\u001b[33mf\u001b[39m\u001b[33m\"\u001b[39m\u001b[33msegments/L1-\u001b[39m\u001b[38;5;132;01m{\u001b[39;00minterval[\u001b[32m0\u001b[39m]\u001b[38;5;132;01m}\u001b[39;00m\u001b[33m_\u001b[39m\u001b[38;5;132;01m{\u001b[39;00minterval[\u001b[32m1\u001b[39m]\u001b[38;5;132;01m}\u001b[39;00m\u001b[33m.csv\u001b[39m\u001b[33m\"\u001b[39m, \u001b[38;5;28mformat\u001b[39m=\u001b[33m\"\u001b[39m\u001b[33mcsv\u001b[39m\u001b[33m\"\u001b[39m)\n\u001b[32m      8\u001b[39m     \u001b[38;5;28;01mexcept\u001b[39;00m \u001b[38;5;167;01mException\u001b[39;00m \u001b[38;5;28;01mas\u001b[39;00m e:\n",
      "\u001b[36mFile \u001b[39m\u001b[32m~/Deep Learning/project/GravNet/.venv/lib/python3.11/site-packages/gwpy/timeseries/core.py:475\u001b[39m, in \u001b[36mTimeSeriesBase.fetch_open_data\u001b[39m\u001b[34m(cls, ifo, start, end, sample_rate, version, format, host, verbose, cache, **kwargs)\u001b[39m\n\u001b[32m    386\u001b[39m \u001b[38;5;250m\u001b[39m\u001b[33;03m\"\"\"Fetch open-access data from the LIGO Open Science Center\u001b[39;00m\n\u001b[32m    387\u001b[39m \n\u001b[32m    388\u001b[39m \u001b[33;03mParameters\u001b[39;00m\n\u001b[32m   (...)\u001b[39m\u001b[32m    472\u001b[39m \u001b[33;03m`StateVector` data are not available in ``txt.gz`` format.\u001b[39;00m\n\u001b[32m    473\u001b[39m \u001b[33;03m\"\"\"\u001b[39;00m\n\u001b[32m    474\u001b[39m \u001b[38;5;28;01mfrom\u001b[39;00m\u001b[38;5;250m \u001b[39m\u001b[34;01m.\u001b[39;00m\u001b[34;01mio\u001b[39;00m\u001b[34;01m.\u001b[39;00m\u001b[34;01mlosc\u001b[39;00m\u001b[38;5;250m \u001b[39m\u001b[38;5;28;01mimport\u001b[39;00m fetch_gwosc_data\n\u001b[32m--> \u001b[39m\u001b[32m475\u001b[39m \u001b[38;5;28;01mreturn\u001b[39;00m \u001b[43mfetch_gwosc_data\u001b[49m\u001b[43m(\u001b[49m\n\u001b[32m    476\u001b[39m \u001b[43m    \u001b[49m\u001b[43mifo\u001b[49m\u001b[43m,\u001b[49m\n\u001b[32m    477\u001b[39m \u001b[43m    \u001b[49m\u001b[43mstart\u001b[49m\u001b[43m,\u001b[49m\n\u001b[32m    478\u001b[39m \u001b[43m    \u001b[49m\u001b[43mend\u001b[49m\u001b[43m,\u001b[49m\n\u001b[32m    479\u001b[39m \u001b[43m    \u001b[49m\u001b[43msample_rate\u001b[49m\u001b[43m=\u001b[49m\u001b[43msample_rate\u001b[49m\u001b[43m,\u001b[49m\n\u001b[32m    480\u001b[39m \u001b[43m    \u001b[49m\u001b[43mversion\u001b[49m\u001b[43m=\u001b[49m\u001b[43mversion\u001b[49m\u001b[43m,\u001b[49m\n\u001b[32m    481\u001b[39m \u001b[43m    \u001b[49m\u001b[38;5;28;43mformat\u001b[39;49m\u001b[43m=\u001b[49m\u001b[38;5;28;43mformat\u001b[39;49m\u001b[43m,\u001b[49m\n\u001b[32m    482\u001b[39m \u001b[43m    \u001b[49m\u001b[43mverbose\u001b[49m\u001b[43m=\u001b[49m\u001b[43mverbose\u001b[49m\u001b[43m,\u001b[49m\n\u001b[32m    483\u001b[39m \u001b[43m    \u001b[49m\u001b[43mcache\u001b[49m\u001b[43m=\u001b[49m\u001b[43mcache\u001b[49m\u001b[43m,\u001b[49m\n\u001b[32m    484\u001b[39m \u001b[43m    \u001b[49m\u001b[43mhost\u001b[49m\u001b[43m=\u001b[49m\u001b[43mhost\u001b[49m\u001b[43m,\u001b[49m\n\u001b[32m    485\u001b[39m \u001b[43m    \u001b[49m\u001b[38;5;28;43mcls\u001b[39;49m\u001b[43m=\u001b[49m\u001b[38;5;28;43mcls\u001b[39;49m\u001b[43m,\u001b[49m\n\u001b[32m    486\u001b[39m \u001b[43m    \u001b[49m\u001b[43m*\u001b[49m\u001b[43m*\u001b[49m\u001b[43mkwargs\u001b[49m\u001b[43m,\u001b[49m\n\u001b[32m    487\u001b[39m \u001b[43m\u001b[49m\u001b[43m)\u001b[49m\n",
      "\u001b[36mFile \u001b[39m\u001b[32m~/Deep Learning/project/GravNet/.venv/lib/python3.11/site-packages/gwpy/timeseries/io/losc.py:194\u001b[39m, in \u001b[36mfetch_gwosc_data\u001b[39m\u001b[34m(detector, start, end, cls, **kwargs)\u001b[39m\n\u001b[32m    192\u001b[39m keep = file_segment(url) & span\n\u001b[32m    193\u001b[39m kwargs[\u001b[33m\"\u001b[39m\u001b[33mstart\u001b[39m\u001b[33m\"\u001b[39m], kwargs[\u001b[33m\"\u001b[39m\u001b[33mend\u001b[39m\u001b[33m\"\u001b[39m] = keep\n\u001b[32m--> \u001b[39m\u001b[32m194\u001b[39m new = \u001b[43m_fetch_gwosc_data_file\u001b[49m\u001b[43m(\u001b[49m\u001b[43murl\u001b[49m\u001b[43m,\u001b[49m\u001b[43m \u001b[49m\u001b[43m*\u001b[49m\u001b[43margs\u001b[49m\u001b[43m,\u001b[49m\u001b[43m \u001b[49m\u001b[43m*\u001b[49m\u001b[43m*\u001b[49m\u001b[43mkwargs\u001b[49m\u001b[43m)\u001b[49m\n\u001b[32m    195\u001b[39m \u001b[38;5;28;01mif\u001b[39;00m is_gwf \u001b[38;5;129;01mand\u001b[39;00m (\u001b[38;5;129;01mnot\u001b[39;00m args \u001b[38;5;129;01mor\u001b[39;00m args[\u001b[32m0\u001b[39m] \u001b[38;5;129;01mis\u001b[39;00m \u001b[38;5;28;01mNone\u001b[39;00m):\n\u001b[32m    196\u001b[39m     args = (new.name,)\n",
      "\u001b[36mFile \u001b[39m\u001b[32m~/Deep Learning/project/GravNet/.venv/lib/python3.11/site-packages/gwpy/timeseries/io/losc.py:94\u001b[39m, in \u001b[36m_fetch_gwosc_data_file\u001b[39m\u001b[34m(url, *args, **kwargs)\u001b[39m\n\u001b[32m     91\u001b[39m \u001b[38;5;28;01melif\u001b[39;00m ext == \u001b[33m'\u001b[39m\u001b[33m.gwf\u001b[39m\u001b[33m'\u001b[39m:\n\u001b[32m     92\u001b[39m     kwargs.setdefault(\u001b[33m'\u001b[39m\u001b[33mformat\u001b[39m\u001b[33m'\u001b[39m, \u001b[33m'\u001b[39m\u001b[33mgwf\u001b[39m\u001b[33m'\u001b[39m)\n\u001b[32m---> \u001b[39m\u001b[32m94\u001b[39m \u001b[43m\u001b[49m\u001b[38;5;28;43;01mwith\u001b[39;49;00m\u001b[43m \u001b[49m\u001b[43m_download_file\u001b[49m\u001b[43m(\u001b[49m\u001b[43murl\u001b[49m\u001b[43m,\u001b[49m\u001b[43m \u001b[49m\u001b[43mcache\u001b[49m\u001b[43m,\u001b[49m\u001b[43m \u001b[49m\u001b[43mverbose\u001b[49m\u001b[43m=\u001b[49m\u001b[43mverbose\u001b[49m\u001b[43m,\u001b[49m\u001b[43m \u001b[49m\u001b[43mtimeout\u001b[49m\u001b[43m=\u001b[49m\u001b[43mtimeout\u001b[49m\u001b[43m)\u001b[49m\u001b[43m \u001b[49m\u001b[38;5;28;43;01mas\u001b[39;49;00m\u001b[43m \u001b[49m\u001b[43mrem\u001b[49m\u001b[43m:\u001b[49m\n\u001b[32m     95\u001b[39m \u001b[43m    \u001b[49m\u001b[38;5;66;43;03m# get channel for GWF if not given\u001b[39;49;00m\n\u001b[32m     96\u001b[39m \u001b[43m    \u001b[49m\u001b[38;5;28;43;01mif\u001b[39;49;00m\u001b[43m \u001b[49m\u001b[43mext\u001b[49m\u001b[43m \u001b[49m\u001b[43m==\u001b[49m\u001b[43m \u001b[49m\u001b[33;43m\"\u001b[39;49m\u001b[33;43m.gwf\u001b[39;49m\u001b[33;43m\"\u001b[39;49m\u001b[43m \u001b[49m\u001b[38;5;129;43;01mand\u001b[39;49;00m\u001b[43m \u001b[49m\u001b[43m(\u001b[49m\u001b[38;5;129;43;01mnot\u001b[39;49;00m\u001b[43m \u001b[49m\u001b[43margs\u001b[49m\u001b[43m \u001b[49m\u001b[38;5;129;43;01mor\u001b[39;49;00m\u001b[43m \u001b[49m\u001b[43margs\u001b[49m\u001b[43m[\u001b[49m\u001b[32;43m0\u001b[39;49m\u001b[43m]\u001b[49m\u001b[43m \u001b[49m\u001b[38;5;129;43;01mis\u001b[39;49;00m\u001b[43m \u001b[49m\u001b[38;5;28;43;01mNone\u001b[39;49;00m\u001b[43m)\u001b[49m\u001b[43m:\u001b[49m\n\u001b[32m     97\u001b[39m \u001b[43m        \u001b[49m\u001b[43margs\u001b[49m\u001b[43m \u001b[49m\u001b[43m=\u001b[49m\u001b[43m \u001b[49m\u001b[43m(\u001b[49m\u001b[43m_gwf_channel\u001b[49m\u001b[43m(\u001b[49m\u001b[43mrem\u001b[49m\u001b[43m,\u001b[49m\u001b[43m \u001b[49m\u001b[38;5;28;43mcls\u001b[39;49m\u001b[43m,\u001b[49m\u001b[43m \u001b[49m\u001b[43mkwargs\u001b[49m\u001b[43m.\u001b[49m\u001b[43mget\u001b[49m\u001b[43m(\u001b[49m\u001b[33;43m\"\u001b[39;49m\u001b[33;43mverbose\u001b[39;49m\u001b[33;43m\"\u001b[39;49m\u001b[43m)\u001b[49m\u001b[43m)\u001b[49m\u001b[43m,\u001b[49m\u001b[43m)\u001b[49m\n",
      "\u001b[36mFile \u001b[39m\u001b[32m~/.pyenv/versions/3.11.9/lib/python3.11/contextlib.py:137\u001b[39m, in \u001b[36m_GeneratorContextManager.__enter__\u001b[39m\u001b[34m(self)\u001b[39m\n\u001b[32m    135\u001b[39m \u001b[38;5;28;01mdel\u001b[39;00m \u001b[38;5;28mself\u001b[39m.args, \u001b[38;5;28mself\u001b[39m.kwds, \u001b[38;5;28mself\u001b[39m.func\n\u001b[32m    136\u001b[39m \u001b[38;5;28;01mtry\u001b[39;00m:\n\u001b[32m--> \u001b[39m\u001b[32m137\u001b[39m     \u001b[38;5;28;01mreturn\u001b[39;00m \u001b[38;5;28mnext\u001b[39m(\u001b[38;5;28mself\u001b[39m.gen)\n\u001b[32m    138\u001b[39m \u001b[38;5;28;01mexcept\u001b[39;00m \u001b[38;5;167;01mStopIteration\u001b[39;00m:\n\u001b[32m    139\u001b[39m     \u001b[38;5;28;01mraise\u001b[39;00m \u001b[38;5;167;01mRuntimeError\u001b[39;00m(\u001b[33m\"\u001b[39m\u001b[33mgenerator didn\u001b[39m\u001b[33m'\u001b[39m\u001b[33mt yield\u001b[39m\u001b[33m\"\u001b[39m) \u001b[38;5;28;01mfrom\u001b[39;00m\u001b[38;5;250m \u001b[39m\u001b[38;5;28;01mNone\u001b[39;00m\n",
      "\u001b[36mFile \u001b[39m\u001b[32m~/Deep Learning/project/GravNet/.venv/lib/python3.11/site-packages/astropy/utils/data.py:357\u001b[39m, in \u001b[36mget_readable_fileobj\u001b[39m\u001b[34m(name_or_obj, encoding, cache, show_progress, remote_timeout, sources, http_headers, use_fsspec, fsspec_kwargs, close_files)\u001b[39m\n\u001b[32m    355\u001b[39m is_url = _is_url(name_or_obj)\n\u001b[32m    356\u001b[39m \u001b[38;5;28;01mif\u001b[39;00m is_url:\n\u001b[32m--> \u001b[39m\u001b[32m357\u001b[39m     name_or_obj = \u001b[43mdownload_file\u001b[49m\u001b[43m(\u001b[49m\n\u001b[32m    358\u001b[39m \u001b[43m        \u001b[49m\u001b[43mname_or_obj\u001b[49m\u001b[43m,\u001b[49m\n\u001b[32m    359\u001b[39m \u001b[43m        \u001b[49m\u001b[43mcache\u001b[49m\u001b[43m=\u001b[49m\u001b[43mcache\u001b[49m\u001b[43m,\u001b[49m\n\u001b[32m    360\u001b[39m \u001b[43m        \u001b[49m\u001b[43mshow_progress\u001b[49m\u001b[43m=\u001b[49m\u001b[43mshow_progress\u001b[49m\u001b[43m,\u001b[49m\n\u001b[32m    361\u001b[39m \u001b[43m        \u001b[49m\u001b[43mtimeout\u001b[49m\u001b[43m=\u001b[49m\u001b[43mremote_timeout\u001b[49m\u001b[43m,\u001b[49m\n\u001b[32m    362\u001b[39m \u001b[43m        \u001b[49m\u001b[43msources\u001b[49m\u001b[43m=\u001b[49m\u001b[43msources\u001b[49m\u001b[43m,\u001b[49m\n\u001b[32m    363\u001b[39m \u001b[43m        \u001b[49m\u001b[43mhttp_headers\u001b[49m\u001b[43m=\u001b[49m\u001b[43mhttp_headers\u001b[49m\u001b[43m,\u001b[49m\n\u001b[32m    364\u001b[39m \u001b[43m    \u001b[49m\u001b[43m)\u001b[49m\n\u001b[32m    365\u001b[39m fileobj = io.FileIO(name_or_obj, \u001b[33m\"\u001b[39m\u001b[33mr\u001b[39m\u001b[33m\"\u001b[39m)\n\u001b[32m    366\u001b[39m \u001b[38;5;28;01mif\u001b[39;00m is_url \u001b[38;5;129;01mand\u001b[39;00m \u001b[38;5;129;01mnot\u001b[39;00m cache:\n",
      "\u001b[36mFile \u001b[39m\u001b[32m~/Deep Learning/project/GravNet/.venv/lib/python3.11/site-packages/astropy/utils/data.py:1529\u001b[39m, in \u001b[36mdownload_file\u001b[39m\u001b[34m(remote_url, cache, show_progress, timeout, sources, pkgname, http_headers, ssl_context, allow_insecure)\u001b[39m\n\u001b[32m   1527\u001b[39m \u001b[38;5;28;01mfor\u001b[39;00m source_url \u001b[38;5;129;01min\u001b[39;00m sources:\n\u001b[32m   1528\u001b[39m     \u001b[38;5;28;01mtry\u001b[39;00m:\n\u001b[32m-> \u001b[39m\u001b[32m1529\u001b[39m         f_name = \u001b[43m_download_file_from_source\u001b[49m\u001b[43m(\u001b[49m\n\u001b[32m   1530\u001b[39m \u001b[43m            \u001b[49m\u001b[43msource_url\u001b[49m\u001b[43m,\u001b[49m\n\u001b[32m   1531\u001b[39m \u001b[43m            \u001b[49m\u001b[43mtimeout\u001b[49m\u001b[43m=\u001b[49m\u001b[43mtimeout\u001b[49m\u001b[43m,\u001b[49m\n\u001b[32m   1532\u001b[39m \u001b[43m            \u001b[49m\u001b[43mshow_progress\u001b[49m\u001b[43m=\u001b[49m\u001b[43mshow_progress\u001b[49m\u001b[43m,\u001b[49m\n\u001b[32m   1533\u001b[39m \u001b[43m            \u001b[49m\u001b[43mcache\u001b[49m\u001b[43m=\u001b[49m\u001b[43mcache\u001b[49m\u001b[43m,\u001b[49m\n\u001b[32m   1534\u001b[39m \u001b[43m            \u001b[49m\u001b[43mremote_url\u001b[49m\u001b[43m=\u001b[49m\u001b[43mremote_url\u001b[49m\u001b[43m,\u001b[49m\n\u001b[32m   1535\u001b[39m \u001b[43m            \u001b[49m\u001b[43mpkgname\u001b[49m\u001b[43m=\u001b[49m\u001b[43mpkgname\u001b[49m\u001b[43m,\u001b[49m\n\u001b[32m   1536\u001b[39m \u001b[43m            \u001b[49m\u001b[43mhttp_headers\u001b[49m\u001b[43m=\u001b[49m\u001b[43mhttp_headers\u001b[49m\u001b[43m,\u001b[49m\n\u001b[32m   1537\u001b[39m \u001b[43m            \u001b[49m\u001b[43mssl_context\u001b[49m\u001b[43m=\u001b[49m\u001b[43mssl_context\u001b[49m\u001b[43m,\u001b[49m\n\u001b[32m   1538\u001b[39m \u001b[43m            \u001b[49m\u001b[43mallow_insecure\u001b[49m\u001b[43m=\u001b[49m\u001b[43mallow_insecure\u001b[49m\u001b[43m,\u001b[49m\n\u001b[32m   1539\u001b[39m \u001b[43m        \u001b[49m\u001b[43m)\u001b[49m\n\u001b[32m   1540\u001b[39m         \u001b[38;5;66;03m# Success!\u001b[39;00m\n\u001b[32m   1541\u001b[39m         \u001b[38;5;28;01mbreak\u001b[39;00m\n",
      "\u001b[36mFile \u001b[39m\u001b[32m~/Deep Learning/project/GravNet/.venv/lib/python3.11/site-packages/astropy/utils/data.py:1356\u001b[39m, in \u001b[36m_download_file_from_source\u001b[39m\u001b[34m(source_url, show_progress, timeout, remote_url, cache, pkgname, http_headers, ftp_tls, ssl_context, allow_insecure)\u001b[39m\n\u001b[32m   1354\u001b[39m bytes_read += \u001b[38;5;28mlen\u001b[39m(block)\n\u001b[32m   1355\u001b[39m p.update(bytes_read)\n\u001b[32m-> \u001b[39m\u001b[32m1356\u001b[39m block = \u001b[43mremote\u001b[49m\u001b[43m.\u001b[49m\u001b[43mread\u001b[49m\u001b[43m(\u001b[49m\u001b[43mconf\u001b[49m\u001b[43m.\u001b[49m\u001b[43mdownload_block_size\u001b[49m\u001b[43m)\u001b[49m\n\u001b[32m   1357\u001b[39m \u001b[38;5;28;01mif\u001b[39;00m size \u001b[38;5;129;01mis\u001b[39;00m \u001b[38;5;129;01mnot\u001b[39;00m \u001b[38;5;28;01mNone\u001b[39;00m \u001b[38;5;129;01mand\u001b[39;00m bytes_read > size:\n\u001b[32m   1358\u001b[39m     \u001b[38;5;28;01mraise\u001b[39;00m urllib.error.URLError(\n\u001b[32m   1359\u001b[39m         \u001b[33mf\u001b[39m\u001b[33m\"\u001b[39m\u001b[33mFile was supposed to be \u001b[39m\u001b[38;5;132;01m{\u001b[39;00msize\u001b[38;5;132;01m}\u001b[39;00m\u001b[33m bytes but \u001b[39m\u001b[33m\"\u001b[39m\n\u001b[32m   1360\u001b[39m         \u001b[33mf\u001b[39m\u001b[33m\"\u001b[39m\u001b[33mserver provides more, at least \u001b[39m\u001b[38;5;132;01m{\u001b[39;00mbytes_read\u001b[38;5;132;01m}\u001b[39;00m\u001b[33m \u001b[39m\u001b[33m\"\u001b[39m\n\u001b[32m   1361\u001b[39m         \u001b[33m\"\u001b[39m\u001b[33mbytes. Download failed.\u001b[39m\u001b[33m\"\u001b[39m\n\u001b[32m   1362\u001b[39m     )\n",
      "\u001b[36mFile \u001b[39m\u001b[32m~/.pyenv/versions/3.11.9/lib/python3.11/http/client.py:473\u001b[39m, in \u001b[36mHTTPResponse.read\u001b[39m\u001b[34m(self, amt)\u001b[39m\n\u001b[32m    470\u001b[39m \u001b[38;5;28;01mif\u001b[39;00m \u001b[38;5;28mself\u001b[39m.length \u001b[38;5;129;01mis\u001b[39;00m \u001b[38;5;129;01mnot\u001b[39;00m \u001b[38;5;28;01mNone\u001b[39;00m \u001b[38;5;129;01mand\u001b[39;00m amt > \u001b[38;5;28mself\u001b[39m.length:\n\u001b[32m    471\u001b[39m     \u001b[38;5;66;03m# clip the read to the \"end of response\"\u001b[39;00m\n\u001b[32m    472\u001b[39m     amt = \u001b[38;5;28mself\u001b[39m.length\n\u001b[32m--> \u001b[39m\u001b[32m473\u001b[39m s = \u001b[38;5;28mself\u001b[39m.fp.read(amt)\n\u001b[32m    474\u001b[39m \u001b[38;5;28;01mif\u001b[39;00m \u001b[38;5;129;01mnot\u001b[39;00m s \u001b[38;5;129;01mand\u001b[39;00m amt:\n\u001b[32m    475\u001b[39m     \u001b[38;5;66;03m# Ideally, we would raise IncompleteRead if the content-length\u001b[39;00m\n\u001b[32m    476\u001b[39m     \u001b[38;5;66;03m# wasn't satisfied, but it might break compatibility.\u001b[39;00m\n\u001b[32m    477\u001b[39m     \u001b[38;5;28mself\u001b[39m._close_conn()\n",
      "\u001b[36mFile \u001b[39m\u001b[32m~/.pyenv/versions/3.11.9/lib/python3.11/socket.py:706\u001b[39m, in \u001b[36mSocketIO.readinto\u001b[39m\u001b[34m(self, b)\u001b[39m\n\u001b[32m    704\u001b[39m \u001b[38;5;28;01mwhile\u001b[39;00m \u001b[38;5;28;01mTrue\u001b[39;00m:\n\u001b[32m    705\u001b[39m     \u001b[38;5;28;01mtry\u001b[39;00m:\n\u001b[32m--> \u001b[39m\u001b[32m706\u001b[39m         \u001b[38;5;28;01mreturn\u001b[39;00m \u001b[38;5;28;43mself\u001b[39;49m\u001b[43m.\u001b[49m\u001b[43m_sock\u001b[49m\u001b[43m.\u001b[49m\u001b[43mrecv_into\u001b[49m\u001b[43m(\u001b[49m\u001b[43mb\u001b[49m\u001b[43m)\u001b[49m\n\u001b[32m    707\u001b[39m     \u001b[38;5;28;01mexcept\u001b[39;00m timeout:\n\u001b[32m    708\u001b[39m         \u001b[38;5;28mself\u001b[39m._timeout_occurred = \u001b[38;5;28;01mTrue\u001b[39;00m\n",
      "\u001b[36mFile \u001b[39m\u001b[32m~/.pyenv/versions/3.11.9/lib/python3.11/ssl.py:1314\u001b[39m, in \u001b[36mSSLSocket.recv_into\u001b[39m\u001b[34m(self, buffer, nbytes, flags)\u001b[39m\n\u001b[32m   1310\u001b[39m     \u001b[38;5;28;01mif\u001b[39;00m flags != \u001b[32m0\u001b[39m:\n\u001b[32m   1311\u001b[39m         \u001b[38;5;28;01mraise\u001b[39;00m \u001b[38;5;167;01mValueError\u001b[39;00m(\n\u001b[32m   1312\u001b[39m           \u001b[33m\"\u001b[39m\u001b[33mnon-zero flags not allowed in calls to recv_into() on \u001b[39m\u001b[38;5;132;01m%s\u001b[39;00m\u001b[33m\"\u001b[39m %\n\u001b[32m   1313\u001b[39m           \u001b[38;5;28mself\u001b[39m.\u001b[34m__class__\u001b[39m)\n\u001b[32m-> \u001b[39m\u001b[32m1314\u001b[39m     \u001b[38;5;28;01mreturn\u001b[39;00m \u001b[38;5;28;43mself\u001b[39;49m\u001b[43m.\u001b[49m\u001b[43mread\u001b[49m\u001b[43m(\u001b[49m\u001b[43mnbytes\u001b[49m\u001b[43m,\u001b[49m\u001b[43m \u001b[49m\u001b[43mbuffer\u001b[49m\u001b[43m)\u001b[49m\n\u001b[32m   1315\u001b[39m \u001b[38;5;28;01melse\u001b[39;00m:\n\u001b[32m   1316\u001b[39m     \u001b[38;5;28;01mreturn\u001b[39;00m \u001b[38;5;28msuper\u001b[39m().recv_into(buffer, nbytes, flags)\n",
      "\u001b[36mFile \u001b[39m\u001b[32m~/.pyenv/versions/3.11.9/lib/python3.11/ssl.py:1166\u001b[39m, in \u001b[36mSSLSocket.read\u001b[39m\u001b[34m(self, len, buffer)\u001b[39m\n\u001b[32m   1164\u001b[39m \u001b[38;5;28;01mtry\u001b[39;00m:\n\u001b[32m   1165\u001b[39m     \u001b[38;5;28;01mif\u001b[39;00m buffer \u001b[38;5;129;01mis\u001b[39;00m \u001b[38;5;129;01mnot\u001b[39;00m \u001b[38;5;28;01mNone\u001b[39;00m:\n\u001b[32m-> \u001b[39m\u001b[32m1166\u001b[39m         \u001b[38;5;28;01mreturn\u001b[39;00m \u001b[38;5;28;43mself\u001b[39;49m\u001b[43m.\u001b[49m\u001b[43m_sslobj\u001b[49m\u001b[43m.\u001b[49m\u001b[43mread\u001b[49m\u001b[43m(\u001b[49m\u001b[38;5;28;43mlen\u001b[39;49m\u001b[43m,\u001b[49m\u001b[43m \u001b[49m\u001b[43mbuffer\u001b[49m\u001b[43m)\u001b[49m\n\u001b[32m   1167\u001b[39m     \u001b[38;5;28;01melse\u001b[39;00m:\n\u001b[32m   1168\u001b[39m         \u001b[38;5;28;01mreturn\u001b[39;00m \u001b[38;5;28mself\u001b[39m._sslobj.read(\u001b[38;5;28mlen\u001b[39m)\n",
      "\u001b[31mKeyboardInterrupt\u001b[39m: "
     ]
    }
   ],
   "source": [
    "channel_name = \"L1\"\n",
    "\n",
    "errors, exists = [], []\n",
    "for interval in tqdm(observation_intervals, desc=\"Loading Segments\"):\n",
    "    try:\n",
    "        data = TimeSeries.fetch_open_data(channel_name, interval[0], interval[1], timeout=300)\n",
    "        data.write(f\"segments/L1-{interval[0]}_{interval[1]}.csv\", format=\"csv\")\n",
    "    except Exception as e:\n",
    "        errors.append(f\"Interval: {interval} not Fetched Due to\\nError: {e}\")\n",
    "\n",
    "for error in errors:\n",
    "    print(error)\n",
    "    print()"
   ]
  }
 ],
 "metadata": {
  "kernelspec": {
   "display_name": ".venv",
   "language": "python",
   "name": "python3"
  },
  "language_info": {
   "codemirror_mode": {
    "name": "ipython",
    "version": 3
   },
   "file_extension": ".py",
   "mimetype": "text/x-python",
   "name": "python",
   "nbconvert_exporter": "python",
   "pygments_lexer": "ipython3",
   "version": "3.11.9"
  }
 },
 "nbformat": 4,
 "nbformat_minor": 2
}
